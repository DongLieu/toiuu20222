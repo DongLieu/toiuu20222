{
 "cells": [
  {
   "cell_type": "markdown",
   "metadata": {},
   "source": [
    "# Mô hình hóa bài toán\n",
    "\n"
   ]
  },
  {
   "cell_type": "code",
   "execution_count": 4,
   "metadata": {},
   "outputs": [
    {
     "name": "stdout",
     "output_type": "stream",
     "text": [
      "Solution:\n",
      "Objective value = 5.0\n",
      "Choose edge: \n",
      "Edge index:  0 with ( 1 , 3 ) has cost =  3\n",
      "Edge index:  4 with ( 3 , 0 ) has cost =  2\n"
     ]
    }
   ],
   "source": [
    "from ortools.linear_solver import pywraplp\n",
    "from ortools.init import pywrapinit\n",
    "from itertools import combinations\n",
    "\n",
    "def main():\n",
    "    f = open(\"input.txt\", \"r\")\n",
    "    n_v = int(f.readline())\n",
    "\n",
    "    t_v = int(f.readline())\n",
    "    t = {}\n",
    "    for i in range(n_v):\n",
    "        t[i] = 0\n",
    "    for i in range(t_v):\n",
    "        u = int(f.readline())\n",
    "        t[u] = 1\n",
    "\n",
    "    n_e = int(f.readline())\n",
    "    edge = []\n",
    "    for i in range(n_e):\n",
    "        ed_i = list(map(int, f.readline().split()))\n",
    "        edge.append((ed_i[0], ed_i[1], ed_i[2]))\n",
    "\n",
    "    solver = pywraplp.Solver.CreateSolver('SCIP')\n",
    "    if not solver:\n",
    "        return\n",
    "\n",
    "    x = {}\n",
    "    for i in range(n_e):\n",
    "        x[i] = solver.IntVar(0, 1, 'x[' + str(i) + ']')\n",
    "    for i in range(n_v):\n",
    "        w = combinations(range(n_v), i)\n",
    "        for w_combin in w:\n",
    "            n_t_in_w_combin = 0\n",
    "            for u in w_combin:\n",
    "                n_t_in_w_combin = n_t_in_w_combin + t[u]\n",
    "            if (n_t_in_w_combin > 0 and n_t_in_w_combin < t_v)\n",
    "                f_combin = []\n",
    "                for index_ed in range(n_e):\n",
    "                    ed_i = edge[index_ed]\n",
    "                    if ((ed_i[0] in w_combin and ed_i[1] not in w_combin) or (ed_i[1] in w_combin and ed_i[0] not in w_combin)):\n",
    "                        f_combin.append(index_ed)\n",
    "                solver.Add(sum(x[i] for i in f_combin) >= 1)\n",
    "    \n",
    "    # min\n",
    "    ans = []\n",
    "    for i in range(n_e):\n",
    "        ans.append(x[i]*edge[i][2])\n",
    "    solver.Minimize(solver.Sum(ans))\n",
    "\n",
    "    # print\n",
    "    status = solver.Solve()\n",
    "    if (status == pywraplp.Solver.OPTIMAL):\n",
    "        print('Solution:')\n",
    "        print('Objective value =', solver.Objective().Value())\n",
    "        print('Choose edge: ')\n",
    "        for i in range(n_e):\n",
    "            if (x[i].solution_value() == 1):\n",
    "                print('Edge index: ', i, 'with (', edge[i][0], ',', edge[i][1], ') has cost = ', edge[i][2])\n",
    "    else:\n",
    "        print('The problem does not have an optimal solution.')\n",
    "\n",
    "main()"
   ]
  }
 ],
 "metadata": {
  "kernelspec": {
   "display_name": "Python 3.9.5 64-bit",
   "language": "python",
   "name": "python3"
  },
  "language_info": {
   "codemirror_mode": {
    "name": "ipython",
    "version": 3
   },
   "file_extension": ".py",
   "mimetype": "text/x-python",
   "name": "python",
   "nbconvert_exporter": "python",
   "pygments_lexer": "ipython3",
   "version": "3.9.5"
  },
  "orig_nbformat": 4,
  "vscode": {
   "interpreter": {
    "hash": "aee8b7b246df8f9039afb4144a1f6fd8d2ca17a180786b69acc140d282b71a49"
   }
  }
 },
 "nbformat": 4,
 "nbformat_minor": 2
}
