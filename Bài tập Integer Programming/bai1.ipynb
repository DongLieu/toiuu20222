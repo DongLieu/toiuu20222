{
 "cells": [
  {
   "cell_type": "markdown",
   "metadata": {},
   "source": [
    "# Mô hình hóa bài toán\n",
    "\n"
   ]
  },
  {
   "cell_type": "code",
   "execution_count": 1,
   "metadata": {},
   "outputs": [
    {
     "name": "stdout",
     "output_type": "stream",
     "text": [
      "Total value =  3511.0\n",
      "Item 0 is packed in the bin has weight 44.\n",
      "Item 1 is packed in the bin has weight 3.\n",
      "Item 2 is packed in the bin has weight 42.\n",
      "Item 3 is packed in the bin has weight 326.\n",
      "Item 4 is packed in the bin has weight 236.\n",
      "Item 5 is packed in the bin has weight 8.\n",
      "Item 6 is packed in the bin has weight 432.\n",
      "Item 7 is packed in the bin has weight 421.\n",
      "Item 8 is packed in the bin has weight 136.\n",
      "Item 9 is packed in the bin has weight 240.\n",
      "Item 10 is packed in the bin has weight 130.\n",
      "Item 11 is packed in the bin has weight 30.\n",
      "Item 12 is packed in the bin has weight 422.\n",
      "Item 13 is packed in the bin has weight 361.\n",
      "Item 14 is packed in the bin has weight 136.\n"
     ]
    }
   ],
   "source": [
    "from ortools.linear_solver import pywraplp\n",
    "\n",
    "\n",
    "def create_defau_data_model():\n",
    "    \"\"\"Create the data defau for the example.\"\"\"\n",
    "    data = {}\n",
    "    data['weights'] = [44, 3, 42, 326, 236, 8, 432, 421, 136, 240, 130, 30, 422, 361, 136]\n",
    "    data['values'] = [1, 300, 25, 501, 35, 330, 15, 420, 330, 345, 435, 10, 202, 310, 252]\n",
    "    data['items'] = list(range(len(data['weights'])))\n",
    "    data['num_items'] = len(data['weights'])\n",
    "    \n",
    "    # C = 10000\n",
    "    data['bin_capacity'] = 10000\n",
    "    return data\n",
    "\n",
    "def main():\n",
    "    data = create_defau_data_model()\n",
    "\n",
    "    solver = pywraplp.Solver.CreateSolver('SCIP')\n",
    "\n",
    "    # Variables\n",
    "    # x[i] = 1 neu do vat duoc chon\n",
    "    x = {}\n",
    "    for i in data['items']:\n",
    "        x[i] = solver.IntVar(0, 1, 'x_%i' % (i))\n",
    "\n",
    " \n",
    "    # Constraints\n",
    "    solver.Add(solver.Sum([x[i] * data['weights'][i] for i in data['items']]) <= data['bin_capacity'])    \n",
    "    \n",
    "    # Objective\n",
    "    solver.Maximize(solver.Sum([x[i] * data['values'][i] for i in data['items']]))\n",
    "    \n",
    "    # Solve    \n",
    "    status = solver.Solve()\n",
    "    \n",
    "    if status==pywraplp.Solver.OPTIMAL:\n",
    "        print('Total value = ', solver.Objective().Value())\n",
    "        for i in data['items']:\n",
    "            if x[i].solution_value() > 0:\n",
    "                print('Item %i is packed in the bin has weight %i.' % (i, data['weights'][i]))\n",
    "    \n",
    "\n",
    "if __name__ == '__main__':\n",
    "    main()"
   ]
  }
 ],
 "metadata": {
  "kernelspec": {
   "display_name": "Python 3.9.5 64-bit",
   "language": "python",
   "name": "python3"
  },
  "language_info": {
   "codemirror_mode": {
    "name": "ipython",
    "version": 3
   },
   "file_extension": ".py",
   "mimetype": "text/x-python",
   "name": "python",
   "nbconvert_exporter": "python",
   "pygments_lexer": "ipython3",
   "version": "3.9.5"
  },
  "orig_nbformat": 4,
  "vscode": {
   "interpreter": {
    "hash": "aee8b7b246df8f9039afb4144a1f6fd8d2ca17a180786b69acc140d282b71a49"
   }
  }
 },
 "nbformat": 4,
 "nbformat_minor": 2
}
